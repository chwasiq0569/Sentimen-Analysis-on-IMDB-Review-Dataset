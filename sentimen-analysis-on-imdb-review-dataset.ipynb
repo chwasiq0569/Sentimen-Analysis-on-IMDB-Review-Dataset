{
 "cells": [
  {
   "cell_type": "code",
   "execution_count": 1,
   "id": "1cd6045e",
   "metadata": {
    "_cell_guid": "b1076dfc-b9ad-4769-8c92-a6c4dae69d19",
    "_uuid": "8f2839f25d086af736a60e9eeb907d3b93b6e0e5",
    "execution": {
     "iopub.execute_input": "2023-03-25T10:01:21.010187Z",
     "iopub.status.busy": "2023-03-25T10:01:21.009766Z",
     "iopub.status.idle": "2023-03-25T10:01:21.026343Z",
     "shell.execute_reply": "2023-03-25T10:01:21.025092Z"
    },
    "papermill": {
     "duration": 0.024669,
     "end_time": "2023-03-25T10:01:21.028619",
     "exception": false,
     "start_time": "2023-03-25T10:01:21.003950",
     "status": "completed"
    },
    "tags": []
   },
   "outputs": [
    {
     "name": "stdout",
     "output_type": "stream",
     "text": [
      "/kaggle/input/imdb-dataset-of-50k-movie-reviews/IMDB Dataset.csv\n"
     ]
    }
   ],
   "source": [
    "# This Python 3 environment comes with many helpful analytics libraries installed\n",
    "# It is defined by the kaggle/python Docker image: https://github.com/kaggle/docker-python\n",
    "# For example, here's several helpful packages to load\n",
    "\n",
    "import numpy as np # linear algebra\n",
    "import pandas as pd # data processing, CSV file I/O (e.g. pd.read_csv)\n",
    "\n",
    "# Input data files are available in the read-only \"../input/\" directory\n",
    "# For example, running this (by clicking run or pressing Shift+Enter) will list all files under the input directory\n",
    "\n",
    "import os\n",
    "for dirname, _, filenames in os.walk('/kaggle/input'):\n",
    "    for filename in filenames:\n",
    "        print(os.path.join(dirname, filename))\n",
    "\n",
    "# You can write up to 20GB to the current directory (/kaggle/working/) that gets preserved as output when you create a version using \"Save & Run All\" \n",
    "# You can also write temporary files to /kaggle/temp/, but they won't be saved outside of the current session"
   ]
  },
  {
   "cell_type": "code",
   "execution_count": 2,
   "id": "9a00d2da",
   "metadata": {
    "execution": {
     "iopub.execute_input": "2023-03-25T10:01:21.038298Z",
     "iopub.status.busy": "2023-03-25T10:01:21.036945Z",
     "iopub.status.idle": "2023-03-25T10:01:22.379691Z",
     "shell.execute_reply": "2023-03-25T10:01:22.378624Z"
    },
    "papermill": {
     "duration": 1.350337,
     "end_time": "2023-03-25T10:01:22.382679",
     "exception": false,
     "start_time": "2023-03-25T10:01:21.032342",
     "status": "completed"
    },
    "tags": []
   },
   "outputs": [],
   "source": [
    "df = pd.read_csv('/kaggle/input/imdb-dataset-of-50k-movie-reviews/IMDB Dataset.csv')"
   ]
  },
  {
   "cell_type": "code",
   "execution_count": 3,
   "id": "1c400b24",
   "metadata": {
    "execution": {
     "iopub.execute_input": "2023-03-25T10:01:22.394205Z",
     "iopub.status.busy": "2023-03-25T10:01:22.393836Z",
     "iopub.status.idle": "2023-03-25T10:01:22.411299Z",
     "shell.execute_reply": "2023-03-25T10:01:22.410315Z"
    },
    "papermill": {
     "duration": 0.024723,
     "end_time": "2023-03-25T10:01:22.413479",
     "exception": false,
     "start_time": "2023-03-25T10:01:22.388756",
     "status": "completed"
    },
    "tags": []
   },
   "outputs": [
    {
     "data": {
      "text/html": [
       "<div>\n",
       "<style scoped>\n",
       "    .dataframe tbody tr th:only-of-type {\n",
       "        vertical-align: middle;\n",
       "    }\n",
       "\n",
       "    .dataframe tbody tr th {\n",
       "        vertical-align: top;\n",
       "    }\n",
       "\n",
       "    .dataframe thead th {\n",
       "        text-align: right;\n",
       "    }\n",
       "</style>\n",
       "<table border=\"1\" class=\"dataframe\">\n",
       "  <thead>\n",
       "    <tr style=\"text-align: right;\">\n",
       "      <th></th>\n",
       "      <th>review</th>\n",
       "      <th>sentiment</th>\n",
       "    </tr>\n",
       "  </thead>\n",
       "  <tbody>\n",
       "    <tr>\n",
       "      <th>0</th>\n",
       "      <td>One of the other reviewers has mentioned that ...</td>\n",
       "      <td>positive</td>\n",
       "    </tr>\n",
       "    <tr>\n",
       "      <th>1</th>\n",
       "      <td>A wonderful little production. &lt;br /&gt;&lt;br /&gt;The...</td>\n",
       "      <td>positive</td>\n",
       "    </tr>\n",
       "    <tr>\n",
       "      <th>2</th>\n",
       "      <td>I thought this was a wonderful way to spend ti...</td>\n",
       "      <td>positive</td>\n",
       "    </tr>\n",
       "    <tr>\n",
       "      <th>3</th>\n",
       "      <td>Basically there's a family where a little boy ...</td>\n",
       "      <td>negative</td>\n",
       "    </tr>\n",
       "    <tr>\n",
       "      <th>4</th>\n",
       "      <td>Petter Mattei's \"Love in the Time of Money\" is...</td>\n",
       "      <td>positive</td>\n",
       "    </tr>\n",
       "  </tbody>\n",
       "</table>\n",
       "</div>"
      ],
      "text/plain": [
       "                                              review sentiment\n",
       "0  One of the other reviewers has mentioned that ...  positive\n",
       "1  A wonderful little production. <br /><br />The...  positive\n",
       "2  I thought this was a wonderful way to spend ti...  positive\n",
       "3  Basically there's a family where a little boy ...  negative\n",
       "4  Petter Mattei's \"Love in the Time of Money\" is...  positive"
      ]
     },
     "execution_count": 3,
     "metadata": {},
     "output_type": "execute_result"
    }
   ],
   "source": [
    "df.head()"
   ]
  },
  {
   "cell_type": "markdown",
   "id": "0f3df837",
   "metadata": {
    "papermill": {
     "duration": 0.00321,
     "end_time": "2023-03-25T10:01:22.420191",
     "exception": false,
     "start_time": "2023-03-25T10:01:22.416981",
     "status": "completed"
    },
    "tags": []
   },
   "source": [
    "# Steps\n",
    "\n",
    "1 - Text Cleaning\n",
    "\n",
    "2 - Remove HTML Tags\n",
    "\n",
    "3 - Remove Special Characters\n",
    "\n",
    "4 - Converting everything to lower case\n",
    "\n",
    "5 - Remove Stop Words\n",
    "\n",
    "6 - Stemming"
   ]
  },
  {
   "cell_type": "code",
   "execution_count": 4,
   "id": "705dfbaa",
   "metadata": {
    "execution": {
     "iopub.execute_input": "2023-03-25T10:01:22.428061Z",
     "iopub.status.busy": "2023-03-25T10:01:22.427791Z",
     "iopub.status.idle": "2023-03-25T10:01:22.436163Z",
     "shell.execute_reply": "2023-03-25T10:01:22.435309Z"
    },
    "papermill": {
     "duration": 0.014637,
     "end_time": "2023-03-25T10:01:22.438142",
     "exception": false,
     "start_time": "2023-03-25T10:01:22.423505",
     "status": "completed"
    },
    "tags": []
   },
   "outputs": [],
   "source": [
    "df = df.sample(1000)"
   ]
  },
  {
   "cell_type": "code",
   "execution_count": 5,
   "id": "82ee5a50",
   "metadata": {
    "execution": {
     "iopub.execute_input": "2023-03-25T10:01:22.445928Z",
     "iopub.status.busy": "2023-03-25T10:01:22.445662Z",
     "iopub.status.idle": "2023-03-25T10:01:22.457037Z",
     "shell.execute_reply": "2023-03-25T10:01:22.456026Z"
    },
    "papermill": {
     "duration": 0.017746,
     "end_time": "2023-03-25T10:01:22.459250",
     "exception": false,
     "start_time": "2023-03-25T10:01:22.441504",
     "status": "completed"
    },
    "tags": []
   },
   "outputs": [
    {
     "data": {
      "text/html": [
       "<div>\n",
       "<style scoped>\n",
       "    .dataframe tbody tr th:only-of-type {\n",
       "        vertical-align: middle;\n",
       "    }\n",
       "\n",
       "    .dataframe tbody tr th {\n",
       "        vertical-align: top;\n",
       "    }\n",
       "\n",
       "    .dataframe thead th {\n",
       "        text-align: right;\n",
       "    }\n",
       "</style>\n",
       "<table border=\"1\" class=\"dataframe\">\n",
       "  <thead>\n",
       "    <tr style=\"text-align: right;\">\n",
       "      <th></th>\n",
       "      <th>review</th>\n",
       "      <th>sentiment</th>\n",
       "    </tr>\n",
       "  </thead>\n",
       "  <tbody>\n",
       "    <tr>\n",
       "      <th>14576</th>\n",
       "      <td>I was so looking forward to seeing this at the...</td>\n",
       "      <td>negative</td>\n",
       "    </tr>\n",
       "    <tr>\n",
       "      <th>26598</th>\n",
       "      <td>A linear travel within a non-linear structure....</td>\n",
       "      <td>positive</td>\n",
       "    </tr>\n",
       "    <tr>\n",
       "      <th>32895</th>\n",
       "      <td>If Monte Hellman's legendary early 70's road m...</td>\n",
       "      <td>positive</td>\n",
       "    </tr>\n",
       "    <tr>\n",
       "      <th>17649</th>\n",
       "      <td>I think this is one of Burts top five movies, ...</td>\n",
       "      <td>positive</td>\n",
       "    </tr>\n",
       "    <tr>\n",
       "      <th>8431</th>\n",
       "      <td>Focus is an engaging story told in urban, WWII...</td>\n",
       "      <td>positive</td>\n",
       "    </tr>\n",
       "    <tr>\n",
       "      <th>...</th>\n",
       "      <td>...</td>\n",
       "      <td>...</td>\n",
       "    </tr>\n",
       "    <tr>\n",
       "      <th>1178</th>\n",
       "      <td>This movie was an excellent acted, excellent d...</td>\n",
       "      <td>positive</td>\n",
       "    </tr>\n",
       "    <tr>\n",
       "      <th>46188</th>\n",
       "      <td>'Nuff said. An undercover cop from the state c...</td>\n",
       "      <td>negative</td>\n",
       "    </tr>\n",
       "    <tr>\n",
       "      <th>46424</th>\n",
       "      <td>First animated feature film from Ireland is al...</td>\n",
       "      <td>positive</td>\n",
       "    </tr>\n",
       "    <tr>\n",
       "      <th>33029</th>\n",
       "      <td>I've just been at the cinema in down town Prag...</td>\n",
       "      <td>negative</td>\n",
       "    </tr>\n",
       "    <tr>\n",
       "      <th>36598</th>\n",
       "      <td>My girlfriend and I have a thing for Robots. S...</td>\n",
       "      <td>positive</td>\n",
       "    </tr>\n",
       "  </tbody>\n",
       "</table>\n",
       "<p>1000 rows × 2 columns</p>\n",
       "</div>"
      ],
      "text/plain": [
       "                                                  review sentiment\n",
       "14576  I was so looking forward to seeing this at the...  negative\n",
       "26598  A linear travel within a non-linear structure....  positive\n",
       "32895  If Monte Hellman's legendary early 70's road m...  positive\n",
       "17649  I think this is one of Burts top five movies, ...  positive\n",
       "8431   Focus is an engaging story told in urban, WWII...  positive\n",
       "...                                                  ...       ...\n",
       "1178   This movie was an excellent acted, excellent d...  positive\n",
       "46188  'Nuff said. An undercover cop from the state c...  negative\n",
       "46424  First animated feature film from Ireland is al...  positive\n",
       "33029  I've just been at the cinema in down town Prag...  negative\n",
       "36598  My girlfriend and I have a thing for Robots. S...  positive\n",
       "\n",
       "[1000 rows x 2 columns]"
      ]
     },
     "execution_count": 5,
     "metadata": {},
     "output_type": "execute_result"
    }
   ],
   "source": [
    "df"
   ]
  },
  {
   "cell_type": "code",
   "execution_count": 6,
   "id": "dd8a184f",
   "metadata": {
    "execution": {
     "iopub.execute_input": "2023-03-25T10:01:22.467341Z",
     "iopub.status.busy": "2023-03-25T10:01:22.467060Z",
     "iopub.status.idle": "2023-03-25T10:01:22.487682Z",
     "shell.execute_reply": "2023-03-25T10:01:22.485863Z"
    },
    "papermill": {
     "duration": 0.027906,
     "end_time": "2023-03-25T10:01:22.490642",
     "exception": false,
     "start_time": "2023-03-25T10:01:22.462736",
     "status": "completed"
    },
    "tags": []
   },
   "outputs": [
    {
     "name": "stdout",
     "output_type": "stream",
     "text": [
      "<class 'pandas.core.frame.DataFrame'>\n",
      "Int64Index: 1000 entries, 14576 to 36598\n",
      "Data columns (total 2 columns):\n",
      " #   Column     Non-Null Count  Dtype \n",
      "---  ------     --------------  ----- \n",
      " 0   review     1000 non-null   object\n",
      " 1   sentiment  1000 non-null   object\n",
      "dtypes: object(2)\n",
      "memory usage: 23.4+ KB\n"
     ]
    }
   ],
   "source": [
    "df.info()"
   ]
  },
  {
   "cell_type": "code",
   "execution_count": 7,
   "id": "6d14a833",
   "metadata": {
    "execution": {
     "iopub.execute_input": "2023-03-25T10:01:22.500389Z",
     "iopub.status.busy": "2023-03-25T10:01:22.499613Z",
     "iopub.status.idle": "2023-03-25T10:01:22.507156Z",
     "shell.execute_reply": "2023-03-25T10:01:22.506225Z"
    },
    "papermill": {
     "duration": 0.01403,
     "end_time": "2023-03-25T10:01:22.509248",
     "exception": false,
     "start_time": "2023-03-25T10:01:22.495218",
     "status": "completed"
    },
    "tags": []
   },
   "outputs": [
    {
     "data": {
      "text/plain": [
       "(1000, 2)"
      ]
     },
     "execution_count": 7,
     "metadata": {},
     "output_type": "execute_result"
    }
   ],
   "source": [
    "df.shape"
   ]
  },
  {
   "cell_type": "markdown",
   "id": "d89ed63e",
   "metadata": {
    "papermill": {
     "duration": 0.00366,
     "end_time": "2023-03-25T10:01:22.516688",
     "exception": false,
     "start_time": "2023-03-25T10:01:22.513028",
     "status": "completed"
    },
    "tags": []
   },
   "source": [
    "# 1 - Text Cleaning"
   ]
  },
  {
   "cell_type": "code",
   "execution_count": 8,
   "id": "af0f9a64",
   "metadata": {
    "execution": {
     "iopub.execute_input": "2023-03-25T10:01:22.525177Z",
     "iopub.status.busy": "2023-03-25T10:01:22.524906Z",
     "iopub.status.idle": "2023-03-25T10:01:22.529422Z",
     "shell.execute_reply": "2023-03-25T10:01:22.528358Z"
    },
    "papermill": {
     "duration": 0.011444,
     "end_time": "2023-03-25T10:01:22.531848",
     "exception": false,
     "start_time": "2023-03-25T10:01:22.520404",
     "status": "completed"
    },
    "tags": []
   },
   "outputs": [],
   "source": [
    "import re\n",
    "\n",
    "def clean_html(text):\n",
    "    clean = re.compile('<.*?>')\n",
    "    return re.sub(clean, \"\", text)\n"
   ]
  },
  {
   "cell_type": "code",
   "execution_count": 9,
   "id": "7abe42e4",
   "metadata": {
    "execution": {
     "iopub.execute_input": "2023-03-25T10:01:22.540368Z",
     "iopub.status.busy": "2023-03-25T10:01:22.540050Z",
     "iopub.status.idle": "2023-03-25T10:01:22.549736Z",
     "shell.execute_reply": "2023-03-25T10:01:22.548468Z"
    },
    "papermill": {
     "duration": 0.016678,
     "end_time": "2023-03-25T10:01:22.552337",
     "exception": false,
     "start_time": "2023-03-25T10:01:22.535659",
     "status": "completed"
    },
    "tags": []
   },
   "outputs": [],
   "source": [
    "df['review'] = df['review'].apply(clean_html)"
   ]
  },
  {
   "cell_type": "code",
   "execution_count": 10,
   "id": "b47af2a0",
   "metadata": {
    "execution": {
     "iopub.execute_input": "2023-03-25T10:01:22.561496Z",
     "iopub.status.busy": "2023-03-25T10:01:22.561214Z",
     "iopub.status.idle": "2023-03-25T10:01:22.565429Z",
     "shell.execute_reply": "2023-03-25T10:01:22.564314Z"
    },
    "papermill": {
     "duration": 0.011394,
     "end_time": "2023-03-25T10:01:22.567561",
     "exception": false,
     "start_time": "2023-03-25T10:01:22.556167",
     "status": "completed"
    },
    "tags": []
   },
   "outputs": [],
   "source": [
    "def convert_lower(text):\n",
    "    return text.lower()"
   ]
  },
  {
   "cell_type": "code",
   "execution_count": 11,
   "id": "d417085e",
   "metadata": {
    "execution": {
     "iopub.execute_input": "2023-03-25T10:01:22.576760Z",
     "iopub.status.busy": "2023-03-25T10:01:22.576044Z",
     "iopub.status.idle": "2023-03-25T10:01:22.584037Z",
     "shell.execute_reply": "2023-03-25T10:01:22.583084Z"
    },
    "papermill": {
     "duration": 0.014746,
     "end_time": "2023-03-25T10:01:22.586230",
     "exception": false,
     "start_time": "2023-03-25T10:01:22.571484",
     "status": "completed"
    },
    "tags": []
   },
   "outputs": [],
   "source": [
    "df['review'] = df['review'].apply(convert_lower)"
   ]
  },
  {
   "cell_type": "code",
   "execution_count": 12,
   "id": "bd826bbf",
   "metadata": {
    "execution": {
     "iopub.execute_input": "2023-03-25T10:01:22.594639Z",
     "iopub.status.busy": "2023-03-25T10:01:22.594384Z",
     "iopub.status.idle": "2023-03-25T10:01:22.601299Z",
     "shell.execute_reply": "2023-03-25T10:01:22.600298Z"
    },
    "papermill": {
     "duration": 0.013493,
     "end_time": "2023-03-25T10:01:22.603375",
     "exception": false,
     "start_time": "2023-03-25T10:01:22.589882",
     "status": "completed"
    },
    "tags": []
   },
   "outputs": [
    {
     "data": {
      "text/plain": [
       "14576    i was so looking forward to seeing this at the...\n",
       "26598    a linear travel within a non-linear structure....\n",
       "32895    if monte hellman's legendary early 70's road m...\n",
       "17649    i think this is one of burts top five movies, ...\n",
       "8431     focus is an engaging story told in urban, wwii...\n",
       "                               ...                        \n",
       "1178     this movie was an excellent acted, excellent d...\n",
       "46188    'nuff said. an undercover cop from the state c...\n",
       "46424    first animated feature film from ireland is al...\n",
       "33029    i've just been at the cinema in down town prag...\n",
       "36598    my girlfriend and i have a thing for robots. s...\n",
       "Name: review, Length: 1000, dtype: object"
      ]
     },
     "execution_count": 12,
     "metadata": {},
     "output_type": "execute_result"
    }
   ],
   "source": [
    "df['review']"
   ]
  }
 ],
 "metadata": {
  "kernelspec": {
   "display_name": "Python 3",
   "language": "python",
   "name": "python3"
  },
  "language_info": {
   "codemirror_mode": {
    "name": "ipython",
    "version": 3
   },
   "file_extension": ".py",
   "mimetype": "text/x-python",
   "name": "python",
   "nbconvert_exporter": "python",
   "pygments_lexer": "ipython3",
   "version": "3.7.12"
  },
  "papermill": {
   "default_parameters": {},
   "duration": 12.249414,
   "end_time": "2023-03-25T10:01:23.126543",
   "environment_variables": {},
   "exception": null,
   "input_path": "__notebook__.ipynb",
   "output_path": "__notebook__.ipynb",
   "parameters": {},
   "start_time": "2023-03-25T10:01:10.877129",
   "version": "2.4.0"
  }
 },
 "nbformat": 4,
 "nbformat_minor": 5
}
